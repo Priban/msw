{
  "nbformat": 4,
  "nbformat_minor": 0,
  "metadata": {
    "colab": {
      "provenance": []
    },
    "kernelspec": {
      "name": "python3",
      "display_name": "Python 3"
    },
    "language_info": {
      "name": "python"
    }
  },
  "cells": [
    {
      "cell_type": "markdown",
      "source": [
        "# 5. Hledání kořenů rovnice\n"
      ],
      "metadata": {
        "id": "cxRoMpgkZYpc"
      }
    },
    {
      "cell_type": "code",
      "execution_count": null,
      "metadata": {
        "colab": {
          "base_uri": "https://localhost:8080/"
        },
        "id": "MUJgW7xUZSI9",
        "outputId": "4f514f06-521a-4d91-e614-e70c754259ab"
      },
      "outputs": [
        {
          "output_type": "stream",
          "name": "stdout",
          "text": [
            "Metoda: výsledek metody, počet iterací\n",
            "x ** 3 - x výsledek: 1 nebo 0 nebo -1\n",
            "Metoda bisekce: 0.0 počet iterací: -994799744\n",
            "Newtonovo metoda: 1.0 počet iterací: 10\n",
            "\n",
            "sin(x) + x + pi výsledek: -pi\n",
            "Metoda bisekce: -3.1415820121765137 počet iterací: 24\n",
            "Newtonovo metoda: -3.1415843460517268 počet iterací: 33\n",
            "\n",
            "log(x) výsledek: 1\n",
            "Metoda bisekce: 1.0000000000002778 počet iterací: 40\n",
            "Newtonovo metoda: 1.0 počet iterací: 6\n"
          ]
        }
      ],
      "source": [
        "from scipy import optimize\n",
        "import math\n",
        "\n",
        "def f(x):\n",
        "  return x ** 3 - x\n",
        "\n",
        "def derivace_f(x):\n",
        "  return 2 * x\n",
        "\n",
        "bisect_results = optimize.bisect(f, 0, 100, full_output=True)\n",
        "newton_results = optimize.newton(f, -0.9, derivace_f, full_output=True)\n",
        "\n",
        "print(\"Metoda: výsledek metody, počet iterací\")\n",
        "print(\"x ** 3 - x\", \"výsledek: 1 nebo 0 nebo -1\")\n",
        "print(\"Metoda bisekce:\", bisect_results[0], \"počet iterací:\", bisect_results[1].iterations)\n",
        "print(\"Newtonovo metoda:\", newton_results[0], \"počet iterací:\", newton_results[1].iterations)\n",
        "\n",
        "def f(x):\n",
        "  return math.sin(x) + x + math.pi\n",
        "\n",
        "def derivace_f(x):\n",
        "  return math.cos(x) + 1\n",
        "\n",
        "bisect_results = optimize.bisect(f, -500, 500, full_output=True)\n",
        "newton_results = optimize.newton(f, -250, derivace_f, full_output=True)\n",
        "\n",
        "print()\n",
        "print(\"sin(x) + x + pi\", \"výsledek: -pi\")\n",
        "print(\"Metoda bisekce:\", bisect_results[0], \"počet iterací:\", bisect_results[1].iterations)\n",
        "print(\"Newtonovo metoda:\", newton_results[0], \"počet iterací:\", newton_results[1].iterations)\n",
        "\n",
        "def f(x):\n",
        "  return math.log(abs(x))\n",
        "\n",
        "def derivace_f(x):\n",
        "  return 1/x\n",
        "\n",
        "bisect_results = optimize.bisect(f, 0.0001, 2, full_output=True)\n",
        "newton_results = optimize.newton(f, 2, derivace_f, full_output=True)\n",
        "\n",
        "print()\n",
        "print(\"log(x)\", \"výsledek: 1\")\n",
        "print(\"Metoda bisekce:\", bisect_results[0], \"počet iterací:\", bisect_results[1].iterations)\n",
        "print(\"Newtonovo metoda:\", newton_results[0], \"počet iterací:\", newton_results[1].iterations)"
      ]
    }
  ]
}