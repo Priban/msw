{
  "nbformat": 4,
  "nbformat_minor": 0,
  "metadata": {
    "colab": {
      "provenance": []
    },
    "kernelspec": {
      "name": "python3",
      "display_name": "Python 3"
    },
    "language_info": {
      "name": "python"
    }
  },
  "cells": [
    {
      "cell_type": "markdown",
      "source": [
        "# 9. Integrace funkce jedné proměnné"
      ],
      "metadata": {
        "id": "ewAQJzWW_D0w"
      }
    },
    {
      "cell_type": "code",
      "execution_count": 2,
      "metadata": {
        "colab": {
          "base_uri": "https://localhost:8080/"
        },
        "id": "ex_IdxxE-7s9",
        "outputId": "d45a8553-2abc-4729-e824-2151d24fdc6d"
      },
      "outputs": [
        {
          "output_type": "stream",
          "name": "stdout",
          "text": [
            "funkce\n",
            "metoda: výsledek, odchylka od správného výsledku\n",
            "\n",
            "math.sin(x) = 2\n",
            "trapezoid: 1.9966292525412186 0.003370747458781409\n",
            "simpson: 1.9982958872815302 0.001704112718469819\n",
            "romberg: 2.000000000001321 -1.3211653993039363e-12\n",
            "quad (FORTRAN QUADPACK): 2.0 2.220446049250313e-14\n",
            "\n",
            "2*x = 3\n",
            "trapezoid: 3.0000000000000036 -3.552713678800501e-15\n",
            "simpson: 3.0000000000000036 -3.552713678800501e-15\n",
            "romberg: 3.0 0.0\n",
            "quad (FORTRAN QUADPACK): 3.0 3.3306690738754696e-14\n",
            "\n",
            "math.sqrt(x) * math.e ** -x = 1/2 * math.sqrt(math.pi)\n",
            "trapezoid: 0.8797348999246236 0.006492025528134326\n",
            "simpson: 0.8836120007244729 0.002614924728285062\n",
            "romberg: 0.0 0.8862269254527579\n",
            "quad (FORTRAN QUADPACK): 0.8862269254527542 8.658544992101724e-10\n"
          ]
        }
      ],
      "source": [
        "from scipy import integrate\n",
        "import math\n",
        "import numpy as np\n",
        "\n",
        "def f(x): \n",
        "  return math.sin(x)\n",
        "\n",
        "a = 0\n",
        "b = math.pi\n",
        "dx = 0.1\n",
        "x = np.arange(a, b + dx, dx)\n",
        "vysledky_funkce = [f(x) for x in np.arange(a, b + dx, dx)]\n",
        "integral = integrate.trapezoid(vysledky_funkce, x=np.arange(a, b + dx, dx))\n",
        "\n",
        "print(\"funkce\")\n",
        "print(\"metoda: výsledek, odchylka od správného výsledku\")\n",
        "print()\n",
        "print(\"math.sin(x) = 2\")\n",
        "print(\"trapezoid:\", integral, 2 - integral)\n",
        "\n",
        "integral = integrate.simpson(vysledky_funkce, x=x)\n",
        "print(\"simpson:\", integral, 2 - integral)\n",
        "\n",
        "integral = integrate.romberg(f, a, b)\n",
        "print(\"romberg:\", integral, 2 - integral)\n",
        "\n",
        "integral = integrate.quad(f, a, b)\n",
        "print(\"quad (FORTRAN QUADPACK):\", integral[0], integral[1])\n",
        "print()\n",
        "\n",
        "def f(x): \n",
        "  return 2*x\n",
        "\n",
        "a = 1\n",
        "b = 2\n",
        "dx = 0.1\n",
        "x = np.arange(a, b + dx, dx)\n",
        "vysledky_funkce = [f(x) for x in np.arange(a, b + dx, dx)]\n",
        "integral = integrate.trapezoid(vysledky_funkce, x=np.arange(a, b + dx, dx))\n",
        "print(\"2*x = 3\")\n",
        "print(\"trapezoid:\", integral, 3 - integral)\n",
        "\n",
        "integral = integrate.simpson(vysledky_funkce, x=x)\n",
        "print(\"simpson:\", integral, 3 - integral)\n",
        "\n",
        "integral = integrate.romberg(f, a, b)\n",
        "print(\"romberg:\", integral, 3 - integral)\n",
        "\n",
        "integral = integrate.quad(f, a, b)\n",
        "print(\"quad (FORTRAN QUADPACK):\", integral[0], integral[1])\n",
        "print()\n",
        "\n",
        "def f(x): \n",
        "  return math.sqrt(x) * math.e ** -x\n",
        "\n",
        "a = 0\n",
        "b = 10000\n",
        "dx = 0.1\n",
        "x = np.arange(a, b + dx, dx)\n",
        "vysledky_funkce = [f(x) for x in np.arange(a, b + dx, dx)]\n",
        "integral = integrate.trapezoid(vysledky_funkce, x=np.arange(a, b + dx, dx))\n",
        "print(\"math.sqrt(x) * math.e ** -x = 1/2 * math.sqrt(math.pi)\")\n",
        "print(\"trapezoid:\", integral, 1/2 * math.sqrt(math.pi) - integral)\n",
        "\n",
        "integral = integrate.simpson(vysledky_funkce, x=x)\n",
        "print(\"simpson:\", integral, 1/2 * math.sqrt(math.pi) - integral)\n",
        "\n",
        "integral = integrate.romberg(f, a, b)\n",
        "print(\"romberg:\", integral, 1/2 * math.sqrt(math.pi) - integral)\n",
        "\n",
        "integral = integrate.quad(f, a, b)\n",
        "print(\"quad (FORTRAN QUADPACK):\", integral[0], integral[1])"
      ]
    }
  ]
}