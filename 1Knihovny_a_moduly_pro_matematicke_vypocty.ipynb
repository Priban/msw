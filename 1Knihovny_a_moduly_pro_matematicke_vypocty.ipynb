{
  "nbformat": 4,
  "nbformat_minor": 0,
  "metadata": {
    "colab": {
      "provenance": []
    },
    "kernelspec": {
      "name": "python3",
      "display_name": "Python 3"
    },
    "language_info": {
      "name": "python"
    }
  },
  "cells": [
    {
      "cell_type": "markdown",
      "source": [
        "# 1. Knihovny a moduly pro matematické výpočty\n"
      ],
      "metadata": {
        "id": "t4svq6jnF-DI"
      }
    },
    {
      "cell_type": "markdown",
      "source": [
        "## Měřící funkce"
      ],
      "metadata": {
        "id": "XYvZPuM9GCye"
      }
    },
    {
      "cell_type": "code",
      "source": [
        "import time\n",
        "import numpy as np\n",
        "rng = np.random.default_rng()\n",
        "\n",
        "def measure(function, generator, n=1, to_string=False):\n",
        "  \"\"\"\n",
        "  Změří a vrátí průměrný čas vykonání funkce při n pokusech v milisekundách.\n",
        "\n",
        "  Parametr function: funkce ke změření\n",
        "\n",
        "  Parametr generator: funkce která každý pokus vygeneruje náhodné hodnoty pro funkci function\n",
        "\n",
        "  Parametr n: počet pokusů\n",
        "\n",
        "  Parametr to_string: pokud True, vrátí čas jako string\n",
        "  \"\"\"\n",
        "  time_sum = 0\n",
        "  for i in range(n):\n",
        "    if callable(generator):\n",
        "      args = generator()\n",
        "    else:\n",
        "      args = generator\n",
        "\n",
        "    if isinstance(args, tuple):\n",
        "      start = time.time()\n",
        "      function(*args)\n",
        "    else:\n",
        "      start = time.time()\n",
        "      function(args)\n",
        "\n",
        "    end = time.time()\n",
        "    \n",
        "    time_sum += end - start\n",
        "\n",
        "  return str(time_sum / n * 1000) + \" ms\" if to_string else time_sum / n * 1000"
      ],
      "metadata": {
        "id": "9xM6m-8gGEZ9"
      },
      "execution_count": null,
      "outputs": []
    },
    {
      "cell_type": "markdown",
      "source": [
        "## 1.1 Skalární součin vektorů"
      ],
      "metadata": {
        "id": "uPYHS72qGK7A"
      }
    },
    {
      "cell_type": "code",
      "source": [
        "pocet_pokusu = 1000\n",
        "\n",
        "def skalarni_soucin_python(vektorA, vektorB):\n",
        "  sum = 0\n",
        "  for a, b in zip(vektorA, vektorB):\n",
        "    sum += a * b\n",
        "\n",
        "def skalarni_soucin_numpy(vektorA, vektorB):\n",
        "  np.dot(vektorA, vektorB)\n",
        "\n",
        "def vygeneruj_vektory_python():\n",
        "  velikost = rng.integers(2, 100)\n",
        "  vektorA, vektorB = [], []\n",
        "  for slozka in range(velikost):\n",
        "    vektorA.append(rng.integers(-100, 100))\n",
        "    vektorB.append(rng.integers(-100, 100))\n",
        "\n",
        "  return vektorA, vektorB\n",
        "\n",
        "def vygeneruj_vektory_numpy():\n",
        "  vektorA, vektorB = vygeneruj_vektory_python()\n",
        "\n",
        "  return np.array(vektorA), np.array(vektorB)\n",
        "\n",
        "print(\"Standardní Python:\", measure(skalarni_soucin_python, vygeneruj_vektory_python, pocet_pokusu, to_string=True))\n",
        "print(\"NumPy:\", measure(skalarni_soucin_numpy, vygeneruj_vektory_numpy, pocet_pokusu, to_string=True))"
      ],
      "metadata": {
        "id": "H2v-9TyfGR7Z",
        "colab": {
          "base_uri": "https://localhost:8080/"
        },
        "outputId": "71430752-2a74-4f18-ddcb-c947d742d8a0"
      },
      "execution_count": null,
      "outputs": [
        {
          "output_type": "stream",
          "name": "stdout",
          "text": [
            "Standardní Python: 0.015432834625244142 ms\n",
            "NumPy: 0.011171340942382812 ms\n"
          ]
        }
      ]
    },
    {
      "cell_type": "markdown",
      "source": [
        "## 1.2 Faktoriál"
      ],
      "metadata": {
        "id": "AOISZdVvGS7-"
      }
    },
    {
      "cell_type": "code",
      "source": [
        "def faktorial_python(n):\n",
        "  if n == 0: return 1\n",
        "  x = n\n",
        "  for i in range(2, n):\n",
        "    x *= i\n",
        "  return x\n",
        "\n",
        "print(\"Standardní Python:\", measure(faktorial_python, 50, 10, to_string=True))\n",
        "print(\"NumPy:\", measure(np.math.factorial, 50, 10, to_string=True))"
      ],
      "metadata": {
        "id": "owTT6GsFGV4a",
        "colab": {
          "base_uri": "https://localhost:8080/"
        },
        "outputId": "7ee35ac7-7fba-429a-832e-2213056d8162"
      },
      "execution_count": null,
      "outputs": [
        {
          "output_type": "stream",
          "name": "stdout",
          "text": [
            "Standardní Python: 0.008416175842285156 ms\n",
            "NumPy: 0.0015497207641601562 ms\n"
          ]
        }
      ]
    },
    {
      "cell_type": "markdown",
      "source": [
        "## 1.3 Integrál"
      ],
      "metadata": {
        "id": "-H09IQ6XGYAr"
      }
    },
    {
      "cell_type": "code",
      "source": [
        "import sympy as sy\n",
        "\n",
        "def integral_python(f, pocatek, konec): # lichoběžníková metoda\n",
        "  vysledek = 0\n",
        "  x = pocatek\n",
        "  b = konec\n",
        "  dx = 0.0001\n",
        "\n",
        "  while x < b:\n",
        "      vysledek += 1 / 2 * (f(x) + f(x+dx)) * dx\n",
        "      x += dx\n",
        "  return vysledek\n",
        "\n",
        "def integral_sympy(f, pocatek, konec):\n",
        "  x = sy.Symbol(\"x\")\n",
        "  vysledek = sy.N(sy.integrate(f(x), (x, pocatek, konec)))\n",
        "  return vysledek\n",
        "\n",
        "def f(x): return x**2\n",
        "\n",
        "print(\"Standardní Python:\", measure(integral_python, (f, 1, 2), 10, to_string=True))\n",
        "print(\"SymPy:\", measure(integral_sympy, (f, 1, 2), 10, to_string=True))"
      ],
      "metadata": {
        "id": "Cmi0tfzTGa6o",
        "colab": {
          "base_uri": "https://localhost:8080/"
        },
        "outputId": "61c25b87-a754-4aae-f33d-ef09e7a8b7b9"
      },
      "execution_count": null,
      "outputs": [
        {
          "output_type": "stream",
          "name": "stdout",
          "text": [
            "Standardní Python: 4.019737243652344 ms\n",
            "SymPy: 6.0822248458862305 ms\n"
          ]
        }
      ]
    },
    {
      "cell_type": "markdown",
      "source": [
        "## 1.4 Derivace"
      ],
      "metadata": {
        "id": "H1i9R-HOGk6o"
      }
    },
    {
      "cell_type": "code",
      "source": [
        "def derivace_python(f, x): # dy/dx\n",
        "  dx = 0.00000000001\n",
        "  return (f(x + dx) - f(x)) / dx\n",
        "\n",
        "def derivace_sympy(f, bod):\n",
        "  x = sy.Symbol(\"x\")\n",
        "  dx = sy.diff(f(x), x)\n",
        "  ddx = sy.lambdify(x, dx)\n",
        "  return ddx(bod)\n",
        "\n",
        "def f(x):\n",
        "  return x**x\n",
        "\n",
        "print(\"Standardní Python:\", measure(derivace_python, (f, 3), 10, to_string=True))\n",
        "print(\"SymPy:\", measure(derivace_sympy, (f, 3), 10, to_string=True))"
      ],
      "metadata": {
        "colab": {
          "base_uri": "https://localhost:8080/"
        },
        "id": "xPYR3zwg8QTc",
        "outputId": "c1999137-713f-4ea7-be1d-32fd8d88f394"
      },
      "execution_count": null,
      "outputs": [
        {
          "output_type": "stream",
          "name": "stdout",
          "text": [
            "Standardní Python: 0.0014781951904296875 ms\n",
            "SymPy: 2.092719078063965 ms\n"
          ]
        }
      ]
    },
    {
      "cell_type": "markdown",
      "source": [
        "## 1.5 Výpočet determinantu matice 3x3"
      ],
      "metadata": {
        "id": "ELzAHOBy8XN6"
      }
    },
    {
      "cell_type": "code",
      "source": [
        "def determinant(m):\n",
        "  if len(m) + len(m[0]) != 6: raise ValueError()\n",
        "  return (m[0][0] * m[1][1] * m[2][2] + m[0][2] * m[1][0] * m[2][1] + m[0][1] * m[1][2] * m[2][0]) - (\n",
        "      m[0][2] * m[1][1] * m[2][0] + m[0][1] * m[1][0] * m[2][2] + m[0][0] * m[1][2] * m[2][1]\n",
        "  )\n",
        "\n",
        "print(\"Standardní Python:\", measure(determinant, lambda: rng.integers(-100, 100, size=(3,3)), 10, to_string=True))\n",
        "print(\"NumPy:\", measure(np.linalg.det, lambda: rng.integers(-100, 100, size=(3,3)), 10, to_string=True))"
      ],
      "metadata": {
        "colab": {
          "base_uri": "https://localhost:8080/"
        },
        "id": "1vj6cPnC8Ums",
        "outputId": "3fc04018-daaf-4229-bbb1-8c73c7fe5cba"
      },
      "execution_count": null,
      "outputs": [
        {
          "output_type": "stream",
          "name": "stdout",
          "text": [
            "Standardní Python: 0.010657310485839844 ms\n",
            "NumPy: 0.022554397583007812 ms\n"
          ]
        }
      ]
    }
  ]
}