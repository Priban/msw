{
  "nbformat": 4,
  "nbformat_minor": 0,
  "metadata": {
    "colab": {
      "provenance": []
    },
    "kernelspec": {
      "name": "python3",
      "display_name": "Python 3"
    },
    "language_info": {
      "name": "python"
    }
  },
  "cells": [
    {
      "cell_type": "markdown",
      "source": [
        "# 3. Úvod do lineární algebry"
      ],
      "metadata": {
        "id": "C2sCQ5fh-XO2"
      }
    },
    {
      "cell_type": "code",
      "source": [
        "import time\n",
        "import numpy as np\n",
        "rng = np.random.default_rng()\n",
        "\n",
        "def measure(function, generator, n=1, to_string=False):\n",
        "  \"\"\"\n",
        "  Změří a vrátí průměrný čas vykonání funkce při n pokusech v milisekundách.\n",
        "\n",
        "  Parametr function: funkce ke změření\n",
        "\n",
        "  Parametr generator: funkce která každý pokus vygeneruje náhodné hodnoty pro funkci function\n",
        "\n",
        "  Parametr n: počet pokusů\n",
        "\n",
        "  Parametr to_string: pokud True, vrátí čas jako string\n",
        "  \"\"\"\n",
        "  time_sum = 0\n",
        "  for i in range(n):\n",
        "    if callable(generator):\n",
        "      args = generator()\n",
        "    else:\n",
        "      args = generator\n",
        "\n",
        "    if isinstance(args, tuple):\n",
        "      start = time.time()\n",
        "      function(*args)\n",
        "    else:\n",
        "      start = time.time()\n",
        "      function(args)\n",
        "\n",
        "    end = time.time()\n",
        "    \n",
        "    time_sum += end - start\n",
        "\n",
        "  return str(time_sum / n * 1000) + \" ms\" if to_string else time_sum / n * 1000"
      ],
      "metadata": {
        "id": "iMcp3_H9_R0o"
      },
      "execution_count": 3,
      "outputs": []
    },
    {
      "cell_type": "code",
      "execution_count": 2,
      "metadata": {
        "colab": {
          "base_uri": "https://localhost:8080/"
        },
        "id": "B9wKHPJ0-IG_",
        "outputId": "b028593d-7357-4539-d8be-aadf5f1cb48a"
      },
      "outputs": [
        {
          "output_type": "stream",
          "name": "stderr",
          "text": [
            "/usr/local/lib/python3.7/dist-packages/numpy/linalg/linalg.py:2158: RuntimeWarning: overflow encountered in det\n",
            "  r = _umath_linalg.det(a, signature=signature)\n"
          ]
        }
      ],
      "source": [
        "import matplotlib.pyplot as plt\n",
        "import numpy as np\n",
        "rng = np.random.default_rng()\n",
        "\n",
        "def vygeneruj_soustavu(n):\n",
        "  \"\"\"\n",
        "  Vrací matici náhodně vygenerované soustavy rovnic která má řešení a její výsledky.\n",
        "\n",
        "  Parametr n: počet rovnic v soustavě\n",
        "  \"\"\"\n",
        "\n",
        "  vysledky = [rng.integers(-10, 10) for _ in range(n)]\n",
        "\n",
        "  while True:\n",
        "    matice = []\n",
        "    druha_strana_rovnic = []\n",
        "\n",
        "    for rovnice in range(n):\n",
        "      koeficienty = [rng.integers(-10, 10) for _ in range(n)]\n",
        "\n",
        "      matice.append(koeficienty)\n",
        "\n",
        "      sum = 0\n",
        "      for x, k in zip(vysledky, koeficienty):\n",
        "        sum += k * x\n",
        "      druha_strana_rovnic.append(sum)\n",
        "    \n",
        "    if np.linalg.det(matice) != 0: return vysledky, matice, druha_strana_rovnic  \n",
        "\n",
        "def jacobiho_metoda(A, b):\n",
        "    x = np.ones(len(A))\n",
        "    D = np.diag(A)\n",
        "    L = np.tril(A, k=-1)\n",
        "    U = np.triu(A, k=1)\n",
        "    for i in range(5):\n",
        "        x = (b - np.matmul((L + U), x)) / D\n",
        "    return x\n",
        "\n",
        "# vygeneruje k matic pro každou velikost n\n",
        "k = 10\n",
        "velikosti_matic = range(2, 1202, 100)\n",
        "vygenerovane_soustavy = [[vygeneruj_soustavu(n) for _ in range(k)] for n in velikosti_matic]"
      ]
    },
    {
      "cell_type": "code",
      "source": [
        "casy_prime_metody = [0 for _ in velikosti_matic]\n",
        "casy_iteracni_metody = [0 for _ in velikosti_matic]\n",
        "i = 0\n",
        "for n in velikosti_matic:\n",
        "  soustavy_velikosti_n = vygenerovane_soustavy[i]\n",
        "  for soustava in soustavy_velikosti_n:\n",
        "    matice = np.array(soustava[1])\n",
        "    druha_strana_rovnic = np.array(soustava[2])\n",
        "    \n",
        "    # Přímá metoda (LU rozložení)\n",
        "    casy_prime_metody[i] += measure(\n",
        "      np.linalg.solve,\n",
        "      (matice, druha_strana_rovnic),\n",
        "      10\n",
        "    )\n",
        "\n",
        "    # Iterační metoda\n",
        "    casy_iteracni_metody[i] += measure(\n",
        "      jacobiho_metoda,\n",
        "      (matice, druha_strana_rovnic),\n",
        "      10\n",
        "    )\n",
        "\n",
        "  casy_prime_metody[i] /= k\n",
        "  casy_iteracni_metody[i] /= k\n",
        "  i+=1\n",
        "\n",
        "plt.plot(velikosti_matic, casy_prime_metody, \"b-\", label=\"Přímá metoda\")\n",
        "plt.plot(velikosti_matic, casy_iteracni_metody, \"r-\", label=\"Iterační metoda\")\n",
        "plt.legend()\n",
        "plt.show()"
      ],
      "metadata": {
        "colab": {
          "base_uri": "https://localhost:8080/",
          "height": 299
        },
        "id": "qWnv14hh-kI0",
        "outputId": "a9b0491f-cd34-41b9-801a-ba1db24aacb9"
      },
      "execution_count": 4,
      "outputs": [
        {
          "output_type": "stream",
          "name": "stderr",
          "text": [
            "/usr/local/lib/python3.7/dist-packages/ipykernel_launcher.py:36: RuntimeWarning: divide by zero encountered in true_divide\n",
            "/usr/local/lib/python3.7/dist-packages/ipykernel_launcher.py:36: RuntimeWarning: invalid value encountered in matmul\n"
          ]
        },
        {
          "output_type": "display_data",
          "data": {
            "text/plain": [
              "<Figure size 432x288 with 1 Axes>"
            ],
            "image/png": "[encoded data removed]"
          },
          "metadata": {
            "needs_background": "light"
          }
        }
      ]
    }
  ]
}